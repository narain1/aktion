{
 "cells": [
  {
   "cell_type": "code",
   "execution_count": 7,
   "id": "personalized-arabic",
   "metadata": {},
   "outputs": [],
   "source": [
    "%reload_ext autoreload\n",
    "%autoreload 2\n",
    "%matplotlib inline\n",
    "\n",
    "import numpy as np\n",
    "import os, operator\n",
    "import matplotlib.pyplot as plt\n",
    "from pathlib import Path\n",
    "from PIL import Image"
   ]
  },
  {
   "cell_type": "code",
   "execution_count": 6,
   "id": "positive-spending",
   "metadata": {},
   "outputs": [],
   "source": [
    "p = Path(r'e:/documents/images') / 'Alexandra-Daddario-beautiful-photos.jpg'"
   ]
  },
  {
   "cell_type": "code",
   "execution_count": null,
   "id": "turkish-costume",
   "metadata": {},
   "outputs": [],
   "source": [
    "Image.open(p)"
   ]
  },
  {
   "cell_type": "code",
   "execution_count": 9,
   "id": "suburban-snowboard",
   "metadata": {},
   "outputs": [],
   "source": [
    "def isPrime(n):\n",
    "    if n < 2: return \"Neither prime, nor composite\"\n",
    "    for i in range(2, int(n**0.5) + 1):\n",
    "        if n % i == 0:\n",
    "            return False\n",
    "    return True\n",
    "\n",
    "# returns the nth prime number\n",
    "def nthPrime(n):\n",
    "    numberOfPrimes = 0\n",
    "    prime = 1\n",
    "\n",
    "    while numberOfPrimes < n:\n",
    "        prime += 1\n",
    "        if isPrime(prime):\n",
    "            numberOfPrimes += 1\n",
    "    return prime"
   ]
  },
  {
   "cell_type": "code",
   "execution_count": 12,
   "id": "signed-causing",
   "metadata": {},
   "outputs": [
    {
     "data": {
      "text/plain": [
       "<function _operator.eq(a, b, /)>"
      ]
     },
     "execution_count": 12,
     "metadata": {},
     "output_type": "execute_result"
    }
   ],
   "source": [
    "equals = operator.eq"
   ]
  },
  {
   "cell_type": "code",
   "execution_count": 10,
   "id": "shared-message",
   "metadata": {},
   "outputs": [
    {
     "data": {
      "text/plain": [
       "104743"
      ]
     },
     "execution_count": 10,
     "metadata": {},
     "output_type": "execute_result"
    }
   ],
   "source": [
    "assert equals(nthPrime(10001), 104743)"
   ]
  },
  {
   "cell_type": "code",
   "execution_count": null,
   "id": "sufficient-parliament",
   "metadata": {},
   "outputs": [],
   "source": []
  }
 ],
 "metadata": {
  "kernelspec": {
   "display_name": "Python 3",
   "language": "python",
   "name": "python3"
  },
  "language_info": {
   "codemirror_mode": {
    "name": "ipython",
    "version": 3
   },
   "file_extension": ".py",
   "mimetype": "text/x-python",
   "name": "python",
   "nbconvert_exporter": "python",
   "pygments_lexer": "ipython3",
   "version": "3.7.8"
  }
 },
 "nbformat": 4,
 "nbformat_minor": 5
}
